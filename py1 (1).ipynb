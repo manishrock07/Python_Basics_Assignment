{
 "cells": [
  {
   "cell_type": "markdown",
   "metadata": {
    "id": "32Ib54bqQDta"
   },
   "source": [
    "# Python Basics Variable"
   ]
  },
  {
   "cell_type": "code",
   "execution_count": 5,
   "metadata": {
    "colab": {
     "base_uri": "https://localhost:8080/"
    },
    "id": "W0ZfurH-Kml8",
    "outputId": "08ebfe26-f787-4e5d-dca1-04c23f28036a"
   },
   "outputs": [
    {
     "data": {
      "text/plain": [
       "(2, 1)"
      ]
     },
     "execution_count": 5,
     "metadata": {},
     "output_type": "execute_result"
    }
   ],
   "source": [
    "# Declare two variables, `x` and `y`, and assign them integer values. Swap the values of these variables without using any temporary variable.\n",
    "#declaring two varibles\n",
    "x=1\n",
    "y=2\n",
    "#swapping\n",
    "x,y=y,x #swapping the numbers of x and y to y and x\n",
    "x,y #display x and y"
   ]
  },
  {
   "cell_type": "code",
   "execution_count": 2,
   "metadata": {
    "colab": {
     "base_uri": "https://localhost:8080/"
    },
    "id": "ZkNI5w4BLeA7",
    "outputId": "c183e11a-b762-48be-f697-e4c213c0e013"
   },
   "outputs": [
    {
     "name": "stdin",
     "output_type": "stream",
     "text": [
      "enter the number:  7\n",
      "enter the number:  8\n"
     ]
    },
    {
     "name": "stdout",
     "output_type": "stream",
     "text": [
      "56.0\n"
     ]
    }
   ],
   "source": [
    "'''Create a program that calculates the area of a rectangle. Take the length and\n",
    "width as inputs from the user and store them in variables. Calculate and\n",
    "display the area.'''\n",
    "# length in float\n",
    "l=float(input(\"enter the number: \"))\n",
    "# width in float\n",
    "w=float(input('enter the number: '))\n",
    "# formula for area of rectangle\n",
    "area_of_rectangle=l*w\n",
    "print(area_of_rectangle)\n"
   ]
  },
  {
   "cell_type": "code",
   "execution_count": 4,
   "metadata": {
    "colab": {
     "base_uri": "https://localhost:8080/"
    },
    "id": "0QxJvUheNZ33",
    "outputId": "da03c8f8-12ea-432e-d136-e6bd30a4a3c3"
   },
   "outputs": [
    {
     "name": "stdin",
     "output_type": "stream",
     "text": [
      "enter temperature in celsius 50\n"
     ]
    },
    {
     "name": "stdout",
     "output_type": "stream",
     "text": [
      "temprature in fahrenheit is 122.0\n"
     ]
    }
   ],
   "source": [
    "''' Write a Python program that converts temperatures from Celsius to\n",
    "Fahrenheit. Take the temperature in Celsius as input, store it in a variable,\n",
    "convert it to Fahrenheit, and display the result.'''\n",
    "# taking temp in celsius\n",
    "temp=float(input(\"enter temperature in celsius\"))#as default input from user always comes in string therefor type casting string into float\n",
    "# converting temp into fahrenheit\n",
    "fahrenheit=temp*(9/5)+32#formula for conversion\n",
    "print(\"temprature in fahrenheit is\",fahrenheit)#printing the result"
   ]
  },
  {
   "cell_type": "markdown",
   "metadata": {
    "id": "60XGMrl5QAoB"
   },
   "source": [
    "# String Based Questions"
   ]
  },
  {
   "cell_type": "code",
   "execution_count": 8,
   "metadata": {
    "colab": {
     "base_uri": "https://localhost:8080/"
    },
    "id": "AINTT2bHQN-_",
    "outputId": "0b8b885c-ce8d-4d92-e49f-90218f2a9e07"
   },
   "outputs": [
    {
     "name": "stdin",
     "output_type": "stream",
     "text": [
      "enter a string:  manish\n"
     ]
    },
    {
     "name": "stdout",
     "output_type": "stream",
     "text": [
      "6\n"
     ]
    }
   ],
   "source": [
    "''' Write a Python program that takes a string as input and prints the length of\n",
    "the string.'''\n",
    "# creating a input variable that takes string\n",
    "x=str(input(\"enter a string: \"))\n",
    "len_of_str=len(x)#len() is an inbuild function\n",
    "# printing length of a string\n",
    "print(len_of_str)#printing the result"
   ]
  },
  {
   "cell_type": "code",
   "execution_count": 9,
   "metadata": {
    "colab": {
     "base_uri": "https://localhost:8080/"
    },
    "id": "x0nhybfHQmeW",
    "outputId": "7ce99bb0-79e5-4871-b650-3eb6790c2e43"
   },
   "outputs": [
    {
     "name": "stdin",
     "output_type": "stream",
     "text": [
      "enter a sentence:  MAnish\n"
     ]
    },
    {
     "name": "stdout",
     "output_type": "stream",
     "text": [
      "2\n"
     ]
    }
   ],
   "source": [
    "\n",
    "''' Create a program that takes a sentence from the user and counts the number\n",
    "of vowels (a, e, i, o, u) in the string.'''\n",
    "# creating a varible\n",
    "sen =str(input(\"enter a sentence: \"))\n",
    "count=0 #first initialize vowels count =0\n",
    "#iterating throught each letter\n",
    "for letter in sen: #applied for loop to iterrate every letter fro the sentence\n",
    "  # converting every letter into lower because vowels are in lower letter\n",
    "  lower_letter=letter.lower()\n",
    "  #checking if that char in aeiou and increasing the value count\n",
    "  if lower_letter in ('aeiou'):\n",
    "    count+=1 #it means now the count of vowel will be +1 from 0\n",
    "\n",
    "print(count)\n",
    "\n"
   ]
  },
  {
   "cell_type": "code",
   "execution_count": 11,
   "metadata": {
    "colab": {
     "base_uri": "https://localhost:8080/"
    },
    "id": "-KkL0u4dUPWA",
    "outputId": "15bf3725-f2a1-4a00-fe43-4dc16a981e22"
   },
   "outputs": [
    {
     "name": "stdin",
     "output_type": "stream",
     "text": [
      "enter a string hello world\n"
     ]
    },
    {
     "name": "stdout",
     "output_type": "stream",
     "text": [
      "orginal string hello world\n",
      "reversed string dlrow olleh\n"
     ]
    }
   ],
   "source": [
    "'''Given a string, reverse the order of characters using string slicing and print\n",
    "the reversed string.'''\n",
    "string=str(input(\"enter a string\"))\n",
    "print('orginal string',string)\n",
    "reversed_string=string[::-1]\n",
    "''' To reverse the string using string slicing, we use the slicing syntax [start:end:step].\n",
    "In this case, start is not specified, so it defaults to the beginning of the string. \n",
    "end is not specified either, so it defaults to the end of the string. step is -1, which means we are moving backward through the string.\n",
    "So, by using input_string[::-1], we are effectively reversing the string '''\n",
    "\n",
    "print(\"reversed string\",reversed_string)"
   ]
  },
  {
   "cell_type": "code",
   "execution_count": 12,
   "metadata": {
    "colab": {
     "base_uri": "https://localhost:8080/"
    },
    "id": "3xwi1hE5WL0l",
    "outputId": "a3eddc0b-ae1e-4558-9fdf-397dc7b26029"
   },
   "outputs": [
    {
     "name": "stdin",
     "output_type": "stream",
     "text": [
      "enter a string:  naman\n"
     ]
    },
    {
     "name": "stdout",
     "output_type": "stream",
     "text": [
      "orginal string naman\n",
      "it is a palindrome\n"
     ]
    }
   ],
   "source": [
    "''' Write a program that takes a string as input and checks if it is a palindrome\n",
    "(reads the same forwards and backwards).'''\n",
    "#taking input as a string\n",
    "org_string=str(input(\"enter a string: \"))\n",
    "print(\"orginal string\",org_string)\n",
    "check =org_string[::-1]#reversing the order with [-1]\n",
    "if org_string==check:#checking if the string is same if the string are reversed\n",
    "  print(\"it is a palindrome\")\n",
    "else:\n",
    "  print('not a palindrome')"
   ]
  },
  {
   "cell_type": "code",
   "execution_count": 3,
   "metadata": {
    "colab": {
     "base_uri": "https://localhost:8080/"
    },
    "id": "3Go-FsKqWLj_",
    "outputId": "5795d92e-bcf3-465f-a622-188a6fd6f731"
   },
   "outputs": [
    {
     "name": "stdin",
     "output_type": "stream",
     "text": [
      "enter a string:  Hi my name\n"
     ]
    },
    {
     "name": "stdout",
     "output_type": "stream",
     "text": [
      "Himyname\n"
     ]
    }
   ],
   "source": [
    "'''Create a program that takes a string as input and removes all the spaces from\n",
    "it. Print the modified string without spaces.'''\n",
    "string = str(input('enter a string: '))\n",
    "modified_string=string.replace(\" \",\"\" )#the replace()method replaces a specified phrase\n",
    "print(modified_string)\n",
    "\n"
   ]
  },
  {
   "cell_type": "code",
   "execution_count": null,
   "metadata": {
    "id": "9v4OR56oXzw6"
   },
   "outputs": [],
   "source": []
  }
 ],
 "metadata": {
  "colab": {
   "provenance": []
  },
  "kernelspec": {
   "display_name": "Python 3 (ipykernel)",
   "language": "python",
   "name": "python3"
  },
  "language_info": {
   "codemirror_mode": {
    "name": "ipython",
    "version": 3
   },
   "file_extension": ".py",
   "mimetype": "text/x-python",
   "name": "python",
   "nbconvert_exporter": "python",
   "pygments_lexer": "ipython3",
   "version": "3.10.8"
  }
 },
 "nbformat": 4,
 "nbformat_minor": 4
}
